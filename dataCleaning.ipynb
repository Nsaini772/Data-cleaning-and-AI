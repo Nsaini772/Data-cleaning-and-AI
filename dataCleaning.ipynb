# Author: Nikhil Saini
# first part: cleaning the positive of accessible file

# Define the input file path and output file path
input_file = '<enter filename>.txt'
output_file = '<enter filename>.txt'

# Initialize a list to hold sequences
sequences = []

# Open the input file for reading
with open(input_file, 'r') as infile:
    for line in infile:
        # Check if the line does NOT start with '>'
        if not line.startswith('>'):
            # Strip newline characters and add to the list
            sequences.append(line.strip())

# Create an array (list) to store character counts
char_count_array = [len(seq) for seq in sequences]
print("Character count for each sequence:", char_count_array)

average_count = None
# Calculate the average of the character counts
if char_count_array:  
    average_count = sum(char_count_array) // len(char_count_array)
    print(f"The average character count is: {average_count:.2f}")

    # Cut sequences according to the average count
    cut_sequences = [seq[:int(average_count)] for seq in sequences if len(seq) >= average_count]

    # Open the output file for writing
    with open(output_file, 'w') as outfile:
        for line_number, seq in enumerate(cut_sequences, start=1):
            # Write the line number and the sequence to the file
            outfile.write(f"{line_number}: {seq}\n")

    print(f"Cut sequences with line numbers saved to {output_file}")
else:
    print("No sequences found to process.")



# Second part: converting to non accessible genome data from accessible genome data
 
# Define the input and output file paths
input_file = '<enter filename>.bed'
output_file = '<enter filename>.bed'

# Initialize a list to hold intervals
intervals = []

# Open the input file for reading
with open(input_file, 'r') as infile:
    for line in infile:
        # Split the line by tabs and extract the chromosome and start/end positions
        parts = line.strip().split()
        if len(parts) >= 3:
            chrom = parts[0]
            start = int(parts[1])
            end = int(parts[2])
            intervals.append((chrom, start, end))

# Sort intervals by chromosome and start position
intervals.sort(key=lambda x: (x[0], x[1]))

# Initialize a list to hold negative intervals
negative_intervals = []

# Identify gaps between the intervals
for i in range(1, len(intervals)):
    current_chrom, current_start, current_end = intervals[i - 1]
    next_chrom, next_start, next_end = intervals[i]

    # Check if they are on the same chromosome
    if current_chrom == next_chrom:
        # If there is a gap, add it to the negative intervals
        if next_start > current_end:
            negative_intervals.append((current_chrom, current_end + 1, next_start - 1))

# Write the negative intervals to the output file
with open(output_file, 'w') as outfile:
    for chrom, start, end in negative_intervals:
        # Write the negative intervals in the correct format
        outfile.write(f"{chrom}\t{start}\t{end}\n")

print(f"Negative intervals saved to {output_file}")



# Third part: refining the negative bed data as required, using the sequence count as per the positive file

print(f"The average character count is: {average_count:.2f}")


# Define the input file path and output file path
input_file = '<enter filename>.txt'
output_file = '<enter filename>.txt'

# Initialize a list to hold sequences
sequences = []

# Open the input file for reading
with open(input_file, 'r') as infile:
    for line in infile:
        # Check if the line does NOT start with '>'
        if not line.startswith('>'):
            # Strip newline characters and add to the list
            sequences.append(line.strip())

if char_count_array:  

    # Cut sequences according to the average count, it only takes the sequence more than the length
    cut_sequences = [seq[:int(average_count)] for seq in sequences if len(seq) >= average_count]

    # Open the output file for writing
    with open(output_file, 'w') as outfile:
        for line_number, seq in enumerate(cut_sequences, start=1):
            # Write the line number and the sequence to the file
            outfile.write(f"{line_number}: {seq}\n")

    print(f"Cut sequences with line numbers saved to {output_file}")
else:
    print("No sequences found to process.")


